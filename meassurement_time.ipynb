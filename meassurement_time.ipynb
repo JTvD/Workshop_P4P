{
  "nbformat": 4,
  "nbformat_minor": 0,
  "metadata": {
    "colab": {
      "provenance": [],
      "authorship_tag": "ABX9TyOMjtt0XU+aVPZjQXxf9/XM",
      "include_colab_link": true
    },
    "kernelspec": {
      "name": "ir",
      "display_name": "R"
    },
    "language_info": {
      "name": "R"
    }
  },
  "cells": [
    {
      "cell_type": "markdown",
      "metadata": {
        "id": "view-in-github",
        "colab_type": "text"
      },
      "source": [
        "<a href=\"https://colab.research.google.com/github/wurDevTim/Workshop_P4P/blob/main/meassurement_time.ipynb\" target=\"_parent\"><img src=\"https://colab.research.google.com/assets/colab-badge.svg\" alt=\"Open In Colab\"/></a>"
      ]
    },
    {
      "cell_type": "markdown",
      "source": [
        "# Correcting for meassurement time\n",
        "workshop part 2\n"
      ],
      "metadata": {
        "id": "u97oKWmG-i53"
      }
    },
    {
      "cell_type": "markdown",
      "source": [
        "## setup\n",
        "Next to python, google colab can also be used to run R notebooks like this one.\n",
        "To switch:  open the menu 'Runtime' at the top, select 'change runtime type'. And select R at runtime type."
      ],
      "metadata": {
        "id": "WgiH2fK2-rAv"
      }
    },
    {
      "cell_type": "code",
      "source": [
        "# Install packages\n",
        "install.packages(\"LMMsolver\")"
      ],
      "metadata": {
        "id": "sYtNu_JT-rI9"
      },
      "execution_count": null,
      "outputs": []
    }
  ]
}