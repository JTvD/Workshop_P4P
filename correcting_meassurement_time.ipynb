{
  "nbformat": 4,
  "nbformat_minor": 0,
  "metadata": {
    "colab": {
      "provenance": [],
      "authorship_tag": "ABX9TyN/nXFfA8r75RUZtBZMpuah",
      "include_colab_link": true
    },
    "kernelspec": {
      "name": "ir",
      "display_name": "R"
    },
    "language_info": {
      "name": "R"
    }
  },
  "cells": [
    {
      "cell_type": "markdown",
      "metadata": {
        "id": "view-in-github",
        "colab_type": "text"
      },
      "source": [
        "<a href=\"https://colab.research.google.com/github/wurDevTim/Workshop_P4P/blob/main/correcting_meassurement_time.ipynb\" target=\"_parent\"><img src=\"https://colab.research.google.com/assets/colab-badge.svg\" alt=\"Open In Colab\"/></a>"
      ]
    },
    {
      "cell_type": "markdown",
      "source": [
        "# Correcting for meassurement time\n",
        "workshop part 2\n"
      ],
      "metadata": {
        "id": "u97oKWmG-i53"
      }
    },
    {
      "cell_type": "markdown",
      "source": [
        "## setup\n",
        "Next to python, google colab can also be used to run R notebooks like this one.\n",
        "To switch:  open the menu 'Runtime' at the top, select 'change runtime type'. And select R at runtime type."
      ],
      "metadata": {
        "id": "WgiH2fK2-rAv"
      }
    },
    {
      "cell_type": "code",
      "source": [
        "# Install packages\n",
        "install.packages(\"LMMsolver\")"
      ],
      "metadata": {
        "colab": {
          "base_uri": "https://localhost:8080/"
        },
        "id": "sYtNu_JT-rI9",
        "outputId": "da7ddbfb-ae32-4a3d-e8d2-0fda045d6659"
      },
      "execution_count": 1,
      "outputs": [
        {
          "output_type": "stream",
          "name": "stderr",
          "text": [
            "Installing package into ‘/usr/local/lib/R/site-library’\n",
            "(as ‘lib’ is unspecified)\n",
            "\n",
            "also installing the dependencies ‘dotCall64’, ‘agridat’, ‘maps’, ‘Rcpp’, ‘sp’, ‘spam’\n",
            "\n",
            "\n"
          ]
        }
      ]
    },
    {
      "cell_type": "code",
      "source": [
        "# Import\n",
        "library(LMMsolver)"
      ],
      "metadata": {
        "id": "sqfYkxKY_oqB"
      },
      "execution_count": 3,
      "outputs": []
    },
    {
      "cell_type": "markdown",
      "source": [],
      "metadata": {
        "id": "ad-yPPVrB-j1"
      }
    },
    {
      "cell_type": "code",
      "source": [
        "# Function which uses the LMM solver to compute the spline.\n",
        "compute_spline <- function(df, plant_identifier, trait_list)\n",
        "{\n",
        "  ### Fit 1D spline per plant\n",
        "  for (i in c(1:length(unique(df[[plant_identifier]])))){\n",
        "    plant_id = unique(df[[plant_identifier]])[i]\n",
        "    one_plant <- df[df[[plant_identifier]] == plant_id,]\n",
        "    datenum = one_plant[['datenum']]\n",
        "    preddates <- data.frame(datenum = min(one_plant$date):max(one_plant$date))\n",
        "    # Each day has 24*60*60 = 86400 hours\n",
        "    preddates <- preddates * 86400\n",
        "\n",
        "    # Fit 1D spline per trait\n",
        "    for (trait in trait_list){\n",
        "      # Nan values will be removed, but they do cause warnings.\n",
        "      m1 <- LMMsolve(fixed = as.formula(paste(trait, \"~\", 1)),\n",
        "                     spline = ~spl1D(x = datenum, nseg = 20),\n",
        "                     data = one_plant)\n",
        "      summary(m1)\n",
        "      prediction <- obtainSmoothTrend(m1, newdata = preddates,\n",
        "                              includeIntercept = T)\n",
        "      # Rename ypred column\n",
        "      names(prediction)[names(prediction) == 'ypred'] <- trait\n",
        "\n",
        "      # Combine results\n",
        "      if (trait == trait_list[1]){\n",
        "        plant_predictions <- prediction\n",
        "      } else {\n",
        "        plant_predictions <- merge(plant_predictions, prediction, by='datenum')\n",
        "      }\n",
        "    }\n",
        "    plant_predictions[[plant_identifier]] = plant_id\n",
        "    if (i == 1){\n",
        "      all_predictions <- plant_predictions\n",
        "    } else {\n",
        "\n",
        "      all_predictions <- rbind(all_predictions, plant_predictions)\n",
        "    }\n",
        "  }\n",
        "  return(all_predictions)\n",
        "}"
      ],
      "metadata": {
        "id": "-EAo2gnyAPDz"
      },
      "execution_count": 4,
      "outputs": []
    },
    {
      "cell_type": "markdown",
      "source": [
        "# Example\n",
        "In this example the cropreporter data from Lucia is used, which has been analysed beforehand.\n",
        "\n",
        "Note: Systems like the cropreporter in NPEC use the local time. If your unlucky your experiment contains both winter & summer time. In this case we would advice to switch to UTC."
      ],
      "metadata": {
        "id": "QDzgQ2BkJfBm"
      }
    },
    {
      "cell_type": "code",
      "source": [
        "# Load the data\n",
        "df <- read.csv('./data/94_pr_cropreporter_traits_table.csv', sep = \";\")"
      ],
      "metadata": {
        "id": "EXucnEuVJc5S"
      },
      "execution_count": null,
      "outputs": []
    }
  ]
}