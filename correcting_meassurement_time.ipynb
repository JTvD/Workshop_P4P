{
  "nbformat": 4,
  "nbformat_minor": 0,
  "metadata": {
    "colab": {
      "provenance": [],
      "authorship_tag": "ABX9TyOy9dlhhpQrktdMuTmb7n+f",
      "include_colab_link": true
    },
    "kernelspec": {
      "name": "python3",
      "display_name": "Python 3"
    },
    "language_info": {
      "name": "python"
    }
  },
  "cells": [
    {
      "cell_type": "markdown",
      "metadata": {
        "id": "view-in-github",
        "colab_type": "text"
      },
      "source": [
        "<a href=\"https://colab.research.google.com/github/wurDevTim/Workshop_P4P/blob/main/correcting_meassurement_time.ipynb\" target=\"_parent\"><img src=\"https://colab.research.google.com/assets/colab-badge.svg\" alt=\"Open In Colab\"/></a>"
      ]
    },
    {
      "cell_type": "markdown",
      "source": [
        "# Correcting for meassurement time\n",
        "workshop part 2:\n"
      ],
      "metadata": {
        "id": "u97oKWmG-i53"
      }
    },
    {
      "cell_type": "markdown",
      "source": [
        "## setup\n",
        "Next to python, R code can also be used in colab notebooks.\n",
        "Here we call R from python instead with rpy2 to enable us to use python code as well.\n",
        "An R cell is marked with '%%R' at the top of the cell."
      ],
      "metadata": {
        "id": "WgiH2fK2-rAv"
      }
    },
    {
      "cell_type": "code",
      "source": [
        "%load_ext rpy2.ipython"
      ],
      "metadata": {
        "id": "L0EtSYXuiLxu"
      },
      "execution_count": 4,
      "outputs": []
    },
    {
      "cell_type": "code",
      "source": [
        "# indicate that you're running R code\n",
        "%%R\n",
        "\n",
        "# Install packages\n",
        "install.packages(\"LMMsolver\")\n"
      ],
      "metadata": {
        "colab": {
          "base_uri": "https://localhost:8080/"
        },
        "id": "sYtNu_JT-rI9",
        "outputId": "81a77a4d-e197-44f8-ce74-0d6d7d774f94"
      },
      "execution_count": 62,
      "outputs": [
        {
          "output_type": "stream",
          "name": "stderr",
          "text": [
            "WARNING:rpy2.rinterface_lib.callbacks:R[write to console]: Installing package into ‘/usr/local/lib/R/site-library’\n",
            "(as ‘lib’ is unspecified)\n",
            "\n",
            "WARNING:rpy2.rinterface_lib.callbacks:R[write to console]: trying URL 'https://cran.rstudio.com/src/contrib/LMMsolver_1.0.5.tar.gz'\n",
            "\n",
            "WARNING:rpy2.rinterface_lib.callbacks:R[write to console]: Content type 'application/x-gzip'\n",
            "WARNING:rpy2.rinterface_lib.callbacks:R[write to console]:  length 1359485 bytes (1.3 MB)\n",
            "\n",
            "WARNING:rpy2.rinterface_lib.callbacks:R[write to console]: =\n",
            "WARNING:rpy2.rinterface_lib.callbacks:R[write to console]: =\n",
            "WARNING:rpy2.rinterface_lib.callbacks:R[write to console]: =\n",
            "WARNING:rpy2.rinterface_lib.callbacks:R[write to console]: =\n",
            "WARNING:rpy2.rinterface_lib.callbacks:R[write to console]: =\n",
            "WARNING:rpy2.rinterface_lib.callbacks:R[write to console]: =\n",
            "WARNING:rpy2.rinterface_lib.callbacks:R[write to console]: =\n",
            "WARNING:rpy2.rinterface_lib.callbacks:R[write to console]: =\n",
            "WARNING:rpy2.rinterface_lib.callbacks:R[write to console]: =\n",
            "WARNING:rpy2.rinterface_lib.callbacks:R[write to console]: =\n",
            "WARNING:rpy2.rinterface_lib.callbacks:R[write to console]: =\n",
            "WARNING:rpy2.rinterface_lib.callbacks:R[write to console]: =\n",
            "WARNING:rpy2.rinterface_lib.callbacks:R[write to console]: =\n",
            "WARNING:rpy2.rinterface_lib.callbacks:R[write to console]: =\n",
            "WARNING:rpy2.rinterface_lib.callbacks:R[write to console]: =\n",
            "WARNING:rpy2.rinterface_lib.callbacks:R[write to console]: =\n",
            "WARNING:rpy2.rinterface_lib.callbacks:R[write to console]: =\n",
            "WARNING:rpy2.rinterface_lib.callbacks:R[write to console]: =\n",
            "WARNING:rpy2.rinterface_lib.callbacks:R[write to console]: =\n",
            "WARNING:rpy2.rinterface_lib.callbacks:R[write to console]: =\n",
            "WARNING:rpy2.rinterface_lib.callbacks:R[write to console]: =\n",
            "WARNING:rpy2.rinterface_lib.callbacks:R[write to console]: =\n",
            "WARNING:rpy2.rinterface_lib.callbacks:R[write to console]: =\n",
            "WARNING:rpy2.rinterface_lib.callbacks:R[write to console]: =\n",
            "WARNING:rpy2.rinterface_lib.callbacks:R[write to console]: =\n",
            "WARNING:rpy2.rinterface_lib.callbacks:R[write to console]: =\n",
            "WARNING:rpy2.rinterface_lib.callbacks:R[write to console]: =\n",
            "WARNING:rpy2.rinterface_lib.callbacks:R[write to console]: =\n",
            "WARNING:rpy2.rinterface_lib.callbacks:R[write to console]: =\n",
            "WARNING:rpy2.rinterface_lib.callbacks:R[write to console]: =\n",
            "WARNING:rpy2.rinterface_lib.callbacks:R[write to console]: =\n",
            "WARNING:rpy2.rinterface_lib.callbacks:R[write to console]: =\n",
            "WARNING:rpy2.rinterface_lib.callbacks:R[write to console]: =\n",
            "WARNING:rpy2.rinterface_lib.callbacks:R[write to console]: =\n",
            "WARNING:rpy2.rinterface_lib.callbacks:R[write to console]: =\n",
            "WARNING:rpy2.rinterface_lib.callbacks:R[write to console]: =\n",
            "WARNING:rpy2.rinterface_lib.callbacks:R[write to console]: =\n",
            "WARNING:rpy2.rinterface_lib.callbacks:R[write to console]: =\n",
            "WARNING:rpy2.rinterface_lib.callbacks:R[write to console]: =\n",
            "WARNING:rpy2.rinterface_lib.callbacks:R[write to console]: =\n",
            "WARNING:rpy2.rinterface_lib.callbacks:R[write to console]: =\n",
            "WARNING:rpy2.rinterface_lib.callbacks:R[write to console]: =\n",
            "WARNING:rpy2.rinterface_lib.callbacks:R[write to console]: =\n",
            "WARNING:rpy2.rinterface_lib.callbacks:R[write to console]: =\n",
            "WARNING:rpy2.rinterface_lib.callbacks:R[write to console]: =\n",
            "WARNING:rpy2.rinterface_lib.callbacks:R[write to console]: =\n",
            "WARNING:rpy2.rinterface_lib.callbacks:R[write to console]: =\n",
            "WARNING:rpy2.rinterface_lib.callbacks:R[write to console]: =\n",
            "WARNING:rpy2.rinterface_lib.callbacks:R[write to console]: =\n",
            "WARNING:rpy2.rinterface_lib.callbacks:R[write to console]: =\n",
            "WARNING:rpy2.rinterface_lib.callbacks:R[write to console]: \n",
            "\n",
            "WARNING:rpy2.rinterface_lib.callbacks:R[write to console]: downloaded 1.3 MB\n",
            "\n",
            "\n",
            "WARNING:rpy2.rinterface_lib.callbacks:R[write to console]: \n",
            "\n",
            "WARNING:rpy2.rinterface_lib.callbacks:R[write to console]: \n",
            "WARNING:rpy2.rinterface_lib.callbacks:R[write to console]: The downloaded source packages are in\n",
            "\t‘/tmp/RtmpEbqQZs/downloaded_packages’\n",
            "WARNING:rpy2.rinterface_lib.callbacks:R[write to console]: \n",
            "WARNING:rpy2.rinterface_lib.callbacks:R[write to console]: \n",
            "\n"
          ]
        }
      ]
    },
    {
      "cell_type": "code",
      "source": [
        "# Import\n",
        "%%R\n",
        "library(LMMsolver)"
      ],
      "metadata": {
        "id": "sqfYkxKY_oqB"
      },
      "execution_count": 63,
      "outputs": []
    },
    {
      "cell_type": "code",
      "source": [
        "# Mount google drive - not found an R alternative, using python instead.\n",
        "from google.colab import drive\n",
        "from os import path\n",
        "\n",
        "datafolder = \"/content/drive/My Drive/P4P_workshop_data\"\n",
        "# Check if the data folder is mounted correctly\n",
        "if not path.exists(datafolder):\n",
        "  drive.mount('/content/drive')\n",
        "\n",
        "!ls \"$datafolder\""
      ],
      "metadata": {
        "colab": {
          "base_uri": "https://localhost:8080/"
        },
        "id": "6phkogzOcIhN",
        "outputId": "4416da64-b96a-4855-e098-9c639d11af25"
      },
      "execution_count": 7,
      "outputs": [
        {
          "output_type": "stream",
          "name": "stdout",
          "text": [
            "Mounted at /content/drive\n",
            " cropreporter_traits.csv  'Enza Mandy Boon'   Lucia   npec_tomato\n"
          ]
        }
      ]
    },
    {
      "cell_type": "markdown",
      "source": [],
      "metadata": {
        "id": "ad-yPPVrB-j1"
      }
    },
    {
      "cell_type": "code",
      "source": [
        "# Function which uses the LMM solver to compute the spline.\n",
        "%%R\n",
        "\n",
        "compute_spline <- function(df, plant_identifier, trait_list)\n",
        "{\n",
        "  ### Fit 1D spline per plant\n",
        "  for (i in c(1:length(unique(df[[plant_identifier]])))){\n",
        "    plant_id = unique(df[[plant_identifier]])[i]\n",
        "    one_plant <- df[df[[plant_identifier]] == plant_id,]\n",
        "    datenum = one_plant[['datenum']]\n",
        "    preddates <- data.frame(datenum = min(one_plant$date):max(one_plant$date))\n",
        "    # Each day has 24*60*60 = 86400 hours\n",
        "    preddates <- preddates * 86400\n",
        "\n",
        "    # Fit 1D spline per trait\n",
        "    for (trait in trait_list){\n",
        "      # Check for inf values\n",
        "      if (sum(is.infinite(one_plant[[trait]])) > 0) {\n",
        "        print(paste('Warning: infinite value encoutered for plant: ', plant_id, ', trait: ',trait))\n",
        "      }\n",
        "      trait_df <- one_plant[!is.infinite(one_plant[[trait]]),]\n",
        "      # Need at least 2 not inf values\n",
        "      # Need at least 2 not inf values\n",
        "      if (nrow(trait_df) > 2) {\n",
        "        # Nan values will be removed, but they do cause warnings.\n",
        "        m1 <- LMMsolve(fixed = as.formula(paste(trait, \"~\", 1)),\n",
        "                       spline = ~spl1D(x = datenum, nseg = 20),\n",
        "                       data = trait_df)\n",
        "        summary(m1)\n",
        "        prediction <- obtainSmoothTrend(m1, newdata = preddates,\n",
        "                                        includeIntercept = T)\n",
        "        # Rename ypred column\n",
        "        names(prediction)[names(prediction) == 'ypred'] <- trait\n",
        "      } else {\n",
        "        print(paste('Warning: not enough values to process plant: ', plant_id, ', trait: ',trait))\n",
        "        prediction <- preddates\n",
        "        prediction[trait] <- NA\n",
        "      }\n",
        "      prediction <- prediction[,c(\"datenum\",trait)]\n",
        "      # Combine results\n",
        "      if (trait == trait_list[1]){\n",
        "        plant_predictions <- prediction\n",
        "      } else {\n",
        "        plant_predictions <- merge(plant_predictions, prediction, by='datenum')\n",
        "      }\n",
        "    }\n",
        "    plant_predictions[[plant_identifier]] = plant_id\n",
        "    if (i == 1){\n",
        "      all_predictions <- plant_predictions\n",
        "    } else {\n",
        "      all_predictions <- rbind(all_predictions, plant_predictions)\n",
        "    }\n",
        "  }\n",
        "  return(all_predictions)\n",
        "}"
      ],
      "metadata": {
        "id": "-EAo2gnyAPDz"
      },
      "execution_count": 112,
      "outputs": []
    },
    {
      "cell_type": "markdown",
      "source": [
        "# Example\n",
        "In this example the cropreporter data from Lucia is used, which has been analysed beforehand.\n",
        "\n",
        "Note: Systems like the cropreporter in NPEC use the local time. If your unlucky your experiment contains both winter & summer time. In this case we would advice to switch to UTC."
      ],
      "metadata": {
        "id": "QDzgQ2BkJfBm"
      }
    },
    {
      "cell_type": "code",
      "source": [
        "# Load the data\n",
        "%%R\n",
        "df <- read.csv('/content/drive/My Drive/P4P_workshop_data/cropreporter_traits.csv', sep = \",\")\n",
        "head(df)"
      ],
      "metadata": {
        "colab": {
          "base_uri": "https://localhost:8080/"
        },
        "id": "EXucnEuVJc5S",
        "outputId": "733ee78c-ecef-4d2b-e45d-bdf54ced8fc1"
      },
      "execution_count": 80,
      "outputs": [
        {
          "output_type": "stream",
          "name": "stdout",
          "text": [
            "                                                                                                                                                                                                               filename\n",
            "1     D:/temp/p4p/Lucia\\\\PMD_PML_(Control_vs_Drought_one_genotype)\\\\PMD_protocol\\\\20230708\\\\NPEC52.20230605.BD22.CE3027.Control.2\\\\CropReporter\\\\163111171\\\\data\\\\HDR_90_NPEC52.20230605.BD22.CE3027.Control.2_1368.INF\n",
            "2       D:/temp/p4p/Lucia\\\\PMD_PML_(Control_vs_Drought_one_genotype)\\\\PMD_protocol\\\\20230708\\\\NPEC52.20230605.BD4.CE3027.Control.1\\\\CropReporter\\\\124326957\\\\data\\\\HDR_90_NPEC52.20230605.BD4.CE3027.Control.1_1368.INF\n",
            "3     D:/temp/p4p/Lucia\\\\PMD_PML_(Control_vs_Drought_one_genotype)\\\\PMD_protocol\\\\20230708\\\\NPEC52.20230605.BE11.CE3027.Control.3\\\\CropReporter\\\\142623408\\\\data\\\\HDR_90_NPEC52.20230605.BE11.CE3027.Control.3_1368.INF\n",
            "4     D:/temp/p4p/Lucia\\\\PMD_PML_(Control_vs_Drought_one_genotype)\\\\PMD_protocol\\\\20230708\\\\NPEC52.20230605.BE29.CE3027.Control.4\\\\CropReporter\\\\174955569\\\\data\\\\HDR_90_NPEC52.20230605.BE29.CE3027.Control.4_1368.INF\n",
            "5     D:/temp/p4p/Lucia\\\\PMD_PML_(Control_vs_Drought_one_genotype)\\\\PMD_protocol\\\\20230708\\\\NPEC52.20230605.BF18.CE3027.Control.5\\\\CropReporter\\\\154923326\\\\data\\\\HDR_90_NPEC52.20230605.BF18.CE3027.Control.5_1368.INF\n",
            "6 D:/temp/p4p/Lucia\\\\PMD_PML_(Control_vs_Drought_one_genotype)\\\\PMD_protocol\\\\20230708\\\\NPEC52.20230605.BG25.CE3027.Drought_2.7\\\\CropReporter\\\\170757116\\\\data\\\\HDR_90_NPEC52.20230605.BG25.CE3027.Drought_2.7_1368.INF\n",
            "                  Datetime ExperimentId TreatmentId\n",
            "1 2023-07-08, 16:31:11.171           90        1368\n",
            "2 2023-07-08, 12:43:26.957           90        1368\n",
            "3 2023-07-08, 14:26:23.408           90        1368\n",
            "4 2023-07-08, 17:49:55.569           90        1368\n",
            "5 2023-07-08, 15:49:23.326           90        1368\n",
            "6 2023-07-08, 17:07:57.116           90        1368\n",
            "                                  PlantId CameraHeight ConfigFile MeanNdvi\n",
            "1   NPEC52.20230605.BD22.CE3027.Control.2        11480      11480     0.83\n",
            "2    NPEC52.20230605.BD4.CE3027.Control.1        10683      10683     0.82\n",
            "3   NPEC52.20230605.BE11.CE3027.Control.3        10825      10825     0.82\n",
            "4   NPEC52.20230605.BE29.CE3027.Control.4        11324      11324     0.83\n",
            "5   NPEC52.20230605.BF18.CE3027.Control.5        10415      10415     0.82\n",
            "6 NPEC52.20230605.BG25.CE3027.Drought_2.7        10180      10180     0.83\n",
            "  MeanEgreen  MeanPsri  MeanAri MeanMari MeanChlorophyll min_yii mean_yii\n",
            "1  0.6266633 0.4294998 15.36645 3.601837        23038.46    0.51     0.80\n",
            "2  0.6555136 0.4469869 17.71185 3.375247        23337.92    0.70     0.83\n",
            "3  0.6200235 0.4395031 15.66529 3.456177        23103.47    0.41     0.79\n",
            "4  0.6285962 0.4292610 15.52311 3.690951        23092.00   -4.33     0.80\n",
            "5  0.6270032 0.4408761 15.50665 3.459283        23269.08   -0.07     0.78\n",
            "6  0.6141655 0.4233582 14.98091 3.866274        22909.60   -0.38     0.80\n",
            "  max_yii\n",
            "1    1.00\n",
            "2    0.92\n",
            "3    0.92\n",
            "4    0.94\n",
            "5    0.97\n",
            "6    0.92\n"
          ]
        }
      ]
    },
    {
      "cell_type": "code",
      "source": [
        "%%R\n",
        "# Converting to datetime object\n",
        "df[['Datetime']] <- as.POSIXct(df[['Datetime']], format = \"%Y-%m-%d, %H:%M:%OS\")\n",
        "\n",
        "# Datenum stored as integer, exact datetime of measurement\n",
        "df[['datenum']] <- as.integer(df[['Datetime']])\n",
        "\n",
        "# Date is multiplied with 86400 to get value at 00:00:00 of each day\n",
        "df[['date']] <- as.numeric(as.Date(df[['Datetime']]))"
      ],
      "metadata": {
        "id": "Ab85ZOMijL5z"
      },
      "execution_count": 81,
      "outputs": []
    },
    {
      "cell_type": "code",
      "source": [
        "%%R\n",
        "head(df)"
      ],
      "metadata": {
        "colab": {
          "base_uri": "https://localhost:8080/"
        },
        "id": "ILYddD_9lT1y",
        "outputId": "40dba763-facc-4b5c-ab05-d5ed862437c1"
      },
      "execution_count": 82,
      "outputs": [
        {
          "output_type": "stream",
          "name": "stdout",
          "text": [
            "                                                                                                                                                                                                               filename\n",
            "1     D:/temp/p4p/Lucia\\\\PMD_PML_(Control_vs_Drought_one_genotype)\\\\PMD_protocol\\\\20230708\\\\NPEC52.20230605.BD22.CE3027.Control.2\\\\CropReporter\\\\163111171\\\\data\\\\HDR_90_NPEC52.20230605.BD22.CE3027.Control.2_1368.INF\n",
            "2       D:/temp/p4p/Lucia\\\\PMD_PML_(Control_vs_Drought_one_genotype)\\\\PMD_protocol\\\\20230708\\\\NPEC52.20230605.BD4.CE3027.Control.1\\\\CropReporter\\\\124326957\\\\data\\\\HDR_90_NPEC52.20230605.BD4.CE3027.Control.1_1368.INF\n",
            "3     D:/temp/p4p/Lucia\\\\PMD_PML_(Control_vs_Drought_one_genotype)\\\\PMD_protocol\\\\20230708\\\\NPEC52.20230605.BE11.CE3027.Control.3\\\\CropReporter\\\\142623408\\\\data\\\\HDR_90_NPEC52.20230605.BE11.CE3027.Control.3_1368.INF\n",
            "4     D:/temp/p4p/Lucia\\\\PMD_PML_(Control_vs_Drought_one_genotype)\\\\PMD_protocol\\\\20230708\\\\NPEC52.20230605.BE29.CE3027.Control.4\\\\CropReporter\\\\174955569\\\\data\\\\HDR_90_NPEC52.20230605.BE29.CE3027.Control.4_1368.INF\n",
            "5     D:/temp/p4p/Lucia\\\\PMD_PML_(Control_vs_Drought_one_genotype)\\\\PMD_protocol\\\\20230708\\\\NPEC52.20230605.BF18.CE3027.Control.5\\\\CropReporter\\\\154923326\\\\data\\\\HDR_90_NPEC52.20230605.BF18.CE3027.Control.5_1368.INF\n",
            "6 D:/temp/p4p/Lucia\\\\PMD_PML_(Control_vs_Drought_one_genotype)\\\\PMD_protocol\\\\20230708\\\\NPEC52.20230605.BG25.CE3027.Drought_2.7\\\\CropReporter\\\\170757116\\\\data\\\\HDR_90_NPEC52.20230605.BG25.CE3027.Drought_2.7_1368.INF\n",
            "             Datetime ExperimentId TreatmentId\n",
            "1 2023-07-08 16:31:11           90        1368\n",
            "2 2023-07-08 12:43:26           90        1368\n",
            "3 2023-07-08 14:26:23           90        1368\n",
            "4 2023-07-08 17:49:55           90        1368\n",
            "5 2023-07-08 15:49:23           90        1368\n",
            "6 2023-07-08 17:07:57           90        1368\n",
            "                                  PlantId CameraHeight ConfigFile MeanNdvi\n",
            "1   NPEC52.20230605.BD22.CE3027.Control.2        11480      11480     0.83\n",
            "2    NPEC52.20230605.BD4.CE3027.Control.1        10683      10683     0.82\n",
            "3   NPEC52.20230605.BE11.CE3027.Control.3        10825      10825     0.82\n",
            "4   NPEC52.20230605.BE29.CE3027.Control.4        11324      11324     0.83\n",
            "5   NPEC52.20230605.BF18.CE3027.Control.5        10415      10415     0.82\n",
            "6 NPEC52.20230605.BG25.CE3027.Drought_2.7        10180      10180     0.83\n",
            "  MeanEgreen  MeanPsri  MeanAri MeanMari MeanChlorophyll min_yii mean_yii\n",
            "1  0.6266633 0.4294998 15.36645 3.601837        23038.46    0.51     0.80\n",
            "2  0.6555136 0.4469869 17.71185 3.375247        23337.92    0.70     0.83\n",
            "3  0.6200235 0.4395031 15.66529 3.456177        23103.47    0.41     0.79\n",
            "4  0.6285962 0.4292610 15.52311 3.690951        23092.00   -4.33     0.80\n",
            "5  0.6270032 0.4408761 15.50665 3.459283        23269.08   -0.07     0.78\n",
            "6  0.6141655 0.4233582 14.98091 3.866274        22909.60   -0.38     0.80\n",
            "  max_yii    datenum  date\n",
            "1    1.00 1688833871 19546\n",
            "2    0.92 1688820206 19546\n",
            "3    0.92 1688826383 19546\n",
            "4    0.94 1688838595 19546\n",
            "5    0.97 1688831363 19546\n",
            "6    0.92 1688836077 19546\n"
          ]
        }
      ]
    },
    {
      "cell_type": "code",
      "source": [
        "%%R\n",
        "# All columns\n",
        "colnames(df)"
      ],
      "metadata": {
        "colab": {
          "base_uri": "https://localhost:8080/"
        },
        "id": "shPdnIUckamb",
        "outputId": "8d0a7bab-6066-4d00-d068-35242178b455"
      },
      "execution_count": 83,
      "outputs": [
        {
          "output_type": "stream",
          "name": "stdout",
          "text": [
            " [1] \"filename\"        \"Datetime\"        \"ExperimentId\"    \"TreatmentId\"    \n",
            " [5] \"PlantId\"         \"CameraHeight\"    \"ConfigFile\"      \"MeanNdvi\"       \n",
            " [9] \"MeanEgreen\"      \"MeanPsri\"        \"MeanAri\"         \"MeanMari\"       \n",
            "[13] \"MeanChlorophyll\" \"min_yii\"         \"mean_yii\"        \"max_yii\"        \n",
            "[17] \"datenum\"         \"date\"           \n"
          ]
        }
      ]
    },
    {
      "cell_type": "code",
      "source": [
        "%%R\n",
        "# List of the columns to interpolate\n",
        "trait_list <- list('mean_yii', 'MeanChlorophyll', 'MeanNdvi', 'MeanEgreen', 'MeanPsri', 'MeanAri', 'MeanMari')\n"
      ],
      "metadata": {
        "id": "D_iUrzvykKWb"
      },
      "execution_count": 114,
      "outputs": []
    },
    {
      "cell_type": "code",
      "source": [
        "%%R\n",
        "# Compute the spline\n",
        "predictions = compute_spline(df, 'PlantId', trait_list)"
      ],
      "metadata": {
        "colab": {
          "base_uri": "https://localhost:8080/"
        },
        "id": "M_hWaoDMkoxn",
        "outputId": "016c6939-b01e-4f9a-a382-023d54559920"
      },
      "execution_count": 113,
      "outputs": [
        {
          "output_type": "stream",
          "name": "stdout",
          "text": [
            "[1] \"Warning: infinite value encoutered for plant:  NPEC52.20230605.BD22.CE3027.Control.2 , trait:  mean_yii\"\n",
            "[1] \"Warning: infinite value encoutered for plant:  NPEC52.20230605.BD4.CE3027.Control.1 , trait:  mean_yii\"\n",
            "[1] \"Warning: infinite value encoutered for plant:  NPEC52.20230605.BE11.CE3027.Control.3 , trait:  mean_yii\"\n",
            "[1] \"Warning: infinite value encoutered for plant:  NPEC52.20230605.BE29.CE3027.Control.4 , trait:  mean_yii\"\n",
            "[1] \"Warning: infinite value encoutered for plant:  NPEC52.20230605.BF18.CE3027.Control.5 , trait:  mean_yii\"\n",
            "[1] \"Warning: infinite value encoutered for plant:  NPEC52.20230605.BG25.CE3027.Drought_2.7 , trait:  mean_yii\"\n",
            "[1] \"Warning: infinite value encoutered for plant:  NPEC52.20230605.BH14.CE3027.Drought_2.8 , trait:  mean_yii\"\n",
            "[1] \"Warning: not enough values to process plant:  NPEC52.20230605.BH14.CE3027.Drought_2.8 , trait:  mean_yii\"\n",
            "[1] \"Warning: infinite value encoutered for plant:  NPEC52.20230605.BH32.CE3027.Drought_2.9 , trait:  mean_yii\"\n",
            "[1] \"Warning: not enough values to process plant:  NPEC52.20230605.BH32.CE3027.Drought_2.9 , trait:  mean_yii\"\n",
            "[1] \"Warning: infinite value encoutered for plant:  NPEC52.20230605.BI21.CE3027.Drought_2.10 , trait:  mean_yii\"\n",
            "[1] \"Warning: infinite value encoutered for plant:  NPEC52.20230605.BI21.CE3027.Drought_2.10 , trait:  MeanPsri\"\n",
            "[1] \"Warning: infinite value encoutered for plant:  NPEC52.20230605.BJ10.CE3027.Drought_2.11 , trait:  mean_yii\"\n",
            "[1] \"Warning: infinite value encoutered for plant:  NPEC52.20230605.BD27.COE1210.Control.2 , trait:  mean_yii\"\n",
            "[1] \"Warning: not enough values to process plant:  NPEC52.20230605.BD27.COE1210.Control.2 , trait:  mean_yii\"\n",
            "[1] \"Warning: infinite value encoutered for plant:  NPEC52.20230605.BD27.COE1210.Control.2 , trait:  MeanAri\"\n",
            "[1] \"Warning: infinite value encoutered for plant:  NPEC52.20230605.BD27.COE1210.Control.2 , trait:  MeanMari\"\n",
            "[1] \"Warning: infinite value encoutered for plant:  NPEC52.20230605.BD9.COE1210.Control.1 , trait:  mean_yii\"\n",
            "[1] \"Warning: not enough values to process plant:  NPEC52.20230605.BD9.COE1210.Control.1 , trait:  mean_yii\"\n",
            "[1] \"Warning: infinite value encoutered for plant:  NPEC52.20230605.BE16.COE1210.Control.3 , trait:  mean_yii\"\n",
            "[1] \"Warning: not enough values to process plant:  NPEC52.20230605.BE16.COE1210.Control.3 , trait:  mean_yii\"\n",
            "[1] \"Warning: infinite value encoutered for plant:  NPEC52.20230605.BF23.COE1210.Control.5 , trait:  mean_yii\"\n",
            "[1] \"Warning: not enough values to process plant:  NPEC52.20230605.BF23.COE1210.Control.5 , trait:  mean_yii\"\n",
            "[1] \"Warning: infinite value encoutered for plant:  NPEC52.20230605.BF5.COE1210.Control.4 , trait:  mean_yii\"\n"
          ]
        }
      ]
    },
    {
      "cell_type": "code",
      "source": [
        "%%R\n",
        "# Convert time back to datetime\n",
        "predictions[['Datetime']] <- as.POSIXct(predictions[['datenum']]\t, origin=\"1970-01-01\")"
      ],
      "metadata": {
        "id": "UeoIKyDlkr9J"
      },
      "execution_count": 117,
      "outputs": []
    },
    {
      "cell_type": "code",
      "source": [
        "%%R\n",
        "# Look at some results\n",
        "head(predictions[predictions[['PlantId']] == unique(predictions[['PlantId']])[1],])"
      ],
      "metadata": {
        "colab": {
          "base_uri": "https://localhost:8080/"
        },
        "id": "mCSV0mNg3CUe",
        "outputId": "4ea8c224-d544-42d8-c8d6-de9a567d5ae2"
      },
      "execution_count": 118,
      "outputs": [
        {
          "output_type": "stream",
          "name": "stdout",
          "text": [
            "     datenum mean_yii MeanChlorophyll  MeanNdvi MeanEgreen  MeanPsri  MeanAri\n",
            "1 1686787200    0.725        16919.50 0.7979598  0.5189260 0.3893428 12.89457\n",
            "2 1686873600    0.725        17103.15 0.8010606  0.5273796 0.3882193 12.66434\n",
            "3 1686960000    0.725        17296.47 0.8044263  0.5359966 0.3870027 12.44715\n",
            "4 1687046400    0.725        17489.74 0.8080578  0.5443306 0.3858316 12.23930\n",
            "5 1687132800    0.725        17682.95 0.8121139  0.5522104 0.3847343 12.04657\n",
            "6 1687219200    0.725        17876.07 0.8167585  0.5594559 0.3837420 11.87531\n",
            "  MeanMari                               PlantId   Datetime\n",
            "1 3.294881 NPEC52.20230605.BD22.CE3027.Control.2 2023-06-15\n",
            "2 3.318810 NPEC52.20230605.BD22.CE3027.Control.2 2023-06-16\n",
            "3 3.345530 NPEC52.20230605.BD22.CE3027.Control.2 2023-06-17\n",
            "4 3.372417 NPEC52.20230605.BD22.CE3027.Control.2 2023-06-18\n",
            "5 3.399569 NPEC52.20230605.BD22.CE3027.Control.2 2023-06-19\n",
            "6 3.427089 NPEC52.20230605.BD22.CE3027.Control.2 2023-06-20\n"
          ]
        }
      ]
    },
    {
      "cell_type": "code",
      "source": [
        "%%R\n",
        "# Save predictions\n",
        "write.csv(predictions, \"/content/drive/My Drive/P4P_workshop_data/pspline_predictions.csv\", row.names=FALSE)"
      ],
      "metadata": {
        "id": "BHvMphpdktOB"
      },
      "execution_count": null,
      "outputs": []
    },
    {
      "cell_type": "code",
      "source": [
        "%%R\n",
        "preddates <- data.frame(datenum = min(df$date):max(df$date))\n",
        "preddates"
      ],
      "metadata": {
        "colab": {
          "base_uri": "https://localhost:8080/"
        },
        "id": "r64i9YaXl5Qd",
        "outputId": "2d0c03ac-9993-4616-fd90-72d450f1f09b"
      },
      "execution_count": 39,
      "outputs": [
        {
          "output_type": "stream",
          "name": "stdout",
          "text": [
            "   datenum\n",
            "1    19523\n",
            "2    19524\n",
            "3    19525\n",
            "4    19526\n",
            "5    19527\n",
            "6    19528\n",
            "7    19529\n",
            "8    19530\n",
            "9    19531\n",
            "10   19532\n",
            "11   19533\n",
            "12   19534\n",
            "13   19535\n",
            "14   19536\n",
            "15   19537\n",
            "16   19538\n",
            "17   19539\n",
            "18   19540\n",
            "19   19541\n",
            "20   19542\n",
            "21   19543\n",
            "22   19544\n",
            "23   19545\n",
            "24   19546\n",
            "25   19547\n",
            "26   19548\n",
            "27   19549\n",
            "28   19550\n",
            "29   19551\n",
            "30   19552\n",
            "31   19553\n",
            "32   19554\n",
            "33   19555\n",
            "34   19556\n",
            "35   19557\n",
            "36   19558\n",
            "37   19559\n",
            "38   19560\n",
            "39   19561\n",
            "40   19562\n",
            "41   19563\n"
          ]
        }
      ]
    }
  ]
}