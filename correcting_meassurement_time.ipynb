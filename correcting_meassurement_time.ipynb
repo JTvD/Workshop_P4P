{
  "nbformat": 4,
  "nbformat_minor": 0,
  "metadata": {
    "colab": {
      "provenance": [],
      "authorship_tag": "ABX9TyM/R1Sn9wFbkorBfV8mpHWU",
      "include_colab_link": true
    },
    "kernelspec": {
      "name": "python3",
      "display_name": "Python 3"
    },
    "language_info": {
      "name": "python"
    }
  },
  "cells": [
    {
      "cell_type": "markdown",
      "metadata": {
        "id": "view-in-github",
        "colab_type": "text"
      },
      "source": [
        "<a href=\"https://colab.research.google.com/github/wurDevTim/Workshop_P4P/blob/main/correcting_meassurement_time.ipynb\" target=\"_parent\"><img src=\"https://colab.research.google.com/assets/colab-badge.svg\" alt=\"Open In Colab\"/></a>"
      ]
    },
    {
      "cell_type": "markdown",
      "source": [
        "# Correcting for meassurement time\n",
        "workshop part 2\n"
      ],
      "metadata": {
        "id": "u97oKWmG-i53"
      }
    },
    {
      "cell_type": "markdown",
      "source": [
        "## setup\n",
        "Next to python, R code can also be used in colab notebooks.\n",
        "Here we call R from python instead with rpy2 to enable us to use python code as well.\n",
        "An R cell is marked with '%%R' at the top of the cell."
      ],
      "metadata": {
        "id": "WgiH2fK2-rAv"
      }
    },
    {
      "cell_type": "code",
      "source": [
        "%load_ext rpy2.ipython"
      ],
      "metadata": {
        "id": "L0EtSYXuiLxu"
      },
      "execution_count": 4,
      "outputs": []
    },
    {
      "cell_type": "code",
      "source": [
        "# indicate that you're running R code\n",
        "%%R\n",
        "\n",
        "# Install packages\n",
        "install.packages(\"LMMsolver\")\n"
      ],
      "metadata": {
        "colab": {
          "base_uri": "https://localhost:8080/"
        },
        "id": "sYtNu_JT-rI9",
        "outputId": "da0ad85d-6c67-4835-fccf-f8e8e3b7a612"
      },
      "execution_count": 5,
      "outputs": [
        {
          "output_type": "stream",
          "name": "stderr",
          "text": [
            "WARNING:rpy2.rinterface_lib.callbacks:R[write to console]: Installing package into ‘/usr/local/lib/R/site-library’\n",
            "(as ‘lib’ is unspecified)\n",
            "\n",
            "WARNING:rpy2.rinterface_lib.callbacks:R[write to console]: trying URL 'https://cran.rstudio.com/src/contrib/LMMsolver_1.0.5.tar.gz'\n",
            "\n",
            "WARNING:rpy2.rinterface_lib.callbacks:R[write to console]: Content type 'application/x-gzip'\n",
            "WARNING:rpy2.rinterface_lib.callbacks:R[write to console]:  length 1359485 bytes (1.3 MB)\n",
            "\n",
            "WARNING:rpy2.rinterface_lib.callbacks:R[write to console]: =\n",
            "WARNING:rpy2.rinterface_lib.callbacks:R[write to console]: =\n",
            "WARNING:rpy2.rinterface_lib.callbacks:R[write to console]: =\n",
            "WARNING:rpy2.rinterface_lib.callbacks:R[write to console]: =\n",
            "WARNING:rpy2.rinterface_lib.callbacks:R[write to console]: =\n",
            "WARNING:rpy2.rinterface_lib.callbacks:R[write to console]: =\n",
            "WARNING:rpy2.rinterface_lib.callbacks:R[write to console]: =\n",
            "WARNING:rpy2.rinterface_lib.callbacks:R[write to console]: =\n",
            "WARNING:rpy2.rinterface_lib.callbacks:R[write to console]: =\n",
            "WARNING:rpy2.rinterface_lib.callbacks:R[write to console]: =\n",
            "WARNING:rpy2.rinterface_lib.callbacks:R[write to console]: =\n",
            "WARNING:rpy2.rinterface_lib.callbacks:R[write to console]: =\n",
            "WARNING:rpy2.rinterface_lib.callbacks:R[write to console]: =\n",
            "WARNING:rpy2.rinterface_lib.callbacks:R[write to console]: =\n",
            "WARNING:rpy2.rinterface_lib.callbacks:R[write to console]: =\n",
            "WARNING:rpy2.rinterface_lib.callbacks:R[write to console]: =\n",
            "WARNING:rpy2.rinterface_lib.callbacks:R[write to console]: =\n",
            "WARNING:rpy2.rinterface_lib.callbacks:R[write to console]: =\n",
            "WARNING:rpy2.rinterface_lib.callbacks:R[write to console]: =\n",
            "WARNING:rpy2.rinterface_lib.callbacks:R[write to console]: =\n",
            "WARNING:rpy2.rinterface_lib.callbacks:R[write to console]: =\n",
            "WARNING:rpy2.rinterface_lib.callbacks:R[write to console]: =\n",
            "WARNING:rpy2.rinterface_lib.callbacks:R[write to console]: =\n",
            "WARNING:rpy2.rinterface_lib.callbacks:R[write to console]: =\n",
            "WARNING:rpy2.rinterface_lib.callbacks:R[write to console]: =\n",
            "WARNING:rpy2.rinterface_lib.callbacks:R[write to console]: =\n",
            "WARNING:rpy2.rinterface_lib.callbacks:R[write to console]: =\n",
            "WARNING:rpy2.rinterface_lib.callbacks:R[write to console]: =\n",
            "WARNING:rpy2.rinterface_lib.callbacks:R[write to console]: =\n",
            "WARNING:rpy2.rinterface_lib.callbacks:R[write to console]: =\n",
            "WARNING:rpy2.rinterface_lib.callbacks:R[write to console]: =\n",
            "WARNING:rpy2.rinterface_lib.callbacks:R[write to console]: =\n",
            "WARNING:rpy2.rinterface_lib.callbacks:R[write to console]: =\n",
            "WARNING:rpy2.rinterface_lib.callbacks:R[write to console]: =\n",
            "WARNING:rpy2.rinterface_lib.callbacks:R[write to console]: =\n",
            "WARNING:rpy2.rinterface_lib.callbacks:R[write to console]: =\n",
            "WARNING:rpy2.rinterface_lib.callbacks:R[write to console]: =\n",
            "WARNING:rpy2.rinterface_lib.callbacks:R[write to console]: =\n",
            "WARNING:rpy2.rinterface_lib.callbacks:R[write to console]: =\n",
            "WARNING:rpy2.rinterface_lib.callbacks:R[write to console]: =\n",
            "WARNING:rpy2.rinterface_lib.callbacks:R[write to console]: =\n",
            "WARNING:rpy2.rinterface_lib.callbacks:R[write to console]: =\n",
            "WARNING:rpy2.rinterface_lib.callbacks:R[write to console]: =\n",
            "WARNING:rpy2.rinterface_lib.callbacks:R[write to console]: =\n",
            "WARNING:rpy2.rinterface_lib.callbacks:R[write to console]: =\n",
            "WARNING:rpy2.rinterface_lib.callbacks:R[write to console]: =\n",
            "WARNING:rpy2.rinterface_lib.callbacks:R[write to console]: =\n",
            "WARNING:rpy2.rinterface_lib.callbacks:R[write to console]: =\n",
            "WARNING:rpy2.rinterface_lib.callbacks:R[write to console]: =\n",
            "WARNING:rpy2.rinterface_lib.callbacks:R[write to console]: =\n",
            "WARNING:rpy2.rinterface_lib.callbacks:R[write to console]: \n",
            "\n",
            "WARNING:rpy2.rinterface_lib.callbacks:R[write to console]: downloaded 1.3 MB\n",
            "\n",
            "\n",
            "WARNING:rpy2.rinterface_lib.callbacks:R[write to console]: \n",
            "\n",
            "WARNING:rpy2.rinterface_lib.callbacks:R[write to console]: \n",
            "WARNING:rpy2.rinterface_lib.callbacks:R[write to console]: The downloaded source packages are in\n",
            "\t‘/tmp/RtmpEbqQZs/downloaded_packages’\n",
            "WARNING:rpy2.rinterface_lib.callbacks:R[write to console]: \n",
            "WARNING:rpy2.rinterface_lib.callbacks:R[write to console]: \n",
            "\n"
          ]
        }
      ]
    },
    {
      "cell_type": "code",
      "source": [
        "# Import\n",
        "%%R\n",
        "library(LMMsolver)"
      ],
      "metadata": {
        "id": "sqfYkxKY_oqB"
      },
      "execution_count": 6,
      "outputs": []
    },
    {
      "cell_type": "code",
      "source": [
        "# Mount google drive - not found an R alternative, using python instead.\n",
        "from google.colab import drive\n",
        "from os import path\n",
        "\n",
        "datafolder = \"/content/drive/My Drive/P4P_workshop_data\"\n",
        "# Check if the data folder is mounted correctly\n",
        "if not path.exists(datafolder):\n",
        "  drive.mount('/content/drive')\n",
        "\n",
        "!ls \"$datafolder\""
      ],
      "metadata": {
        "colab": {
          "base_uri": "https://localhost:8080/"
        },
        "id": "6phkogzOcIhN",
        "outputId": "4416da64-b96a-4855-e098-9c639d11af25"
      },
      "execution_count": 7,
      "outputs": [
        {
          "output_type": "stream",
          "name": "stdout",
          "text": [
            "Mounted at /content/drive\n",
            " cropreporter_traits.csv  'Enza Mandy Boon'   Lucia   npec_tomato\n"
          ]
        }
      ]
    },
    {
      "cell_type": "markdown",
      "source": [],
      "metadata": {
        "id": "ad-yPPVrB-j1"
      }
    },
    {
      "cell_type": "code",
      "source": [
        "# Function which uses the LMM solver to compute the spline.\n",
        "%%R\n",
        "\n",
        "compute_spline <- function(df, plant_identifier, trait_list)\n",
        "{\n",
        "  ### Fit 1D spline per plant\n",
        "  for (i in c(1:length(unique(df[[plant_identifier]])))){\n",
        "    plant_id = unique(df[[plant_identifier]])[i]\n",
        "    one_plant <- df[df[[plant_identifier]] == plant_id,]\n",
        "    datenum = one_plant[['datenum']]\n",
        "    preddates <- data.frame(datenum = min(one_plant$date):max(one_plant$date))\n",
        "    # Each day has 24*60*60 = 86400 hours\n",
        "    preddates <- preddates * 86400\n",
        "\n",
        "    # Fit 1D spline per trait\n",
        "    for (trait in trait_list){\n",
        "      # Nan values will be removed, but they do cause warnings.\n",
        "      m1 <- LMMsolve(fixed = as.formula(paste(trait, \"~\", 1)),\n",
        "                     spline = ~spl1D(x = datenum, nseg = 20),\n",
        "                     data = one_plant)\n",
        "      summary(m1)\n",
        "      prediction <- obtainSmoothTrend(m1, newdata = preddates,\n",
        "                              includeIntercept = T)\n",
        "      # Rename ypred column\n",
        "      names(prediction)[names(prediction) == 'ypred'] <- trait\n",
        "\n",
        "      # Combine results\n",
        "      if (trait == trait_list[1]){\n",
        "        plant_predictions <- prediction\n",
        "      } else {\n",
        "        plant_predictions <- merge(plant_predictions, prediction, by='datenum')\n",
        "      }\n",
        "    }\n",
        "    plant_predictions[[plant_identifier]] = plant_id\n",
        "    if (i == 1){\n",
        "      all_predictions <- plant_predictions\n",
        "    } else {\n",
        "\n",
        "      all_predictions <- rbind(all_predictions, plant_predictions)\n",
        "    }\n",
        "  }\n",
        "  return(all_predictions)\n",
        "}"
      ],
      "metadata": {
        "id": "-EAo2gnyAPDz"
      },
      "execution_count": 8,
      "outputs": []
    },
    {
      "cell_type": "markdown",
      "source": [
        "# Example\n",
        "In this example the cropreporter data from Lucia is used, which has been analysed beforehand.\n",
        "\n",
        "Note: Systems like the cropreporter in NPEC use the local time. If your unlucky your experiment contains both winter & summer time. In this case we would advice to switch to UTC."
      ],
      "metadata": {
        "id": "QDzgQ2BkJfBm"
      }
    },
    {
      "cell_type": "code",
      "source": [
        "# Load the data\n",
        "%%R\n",
        "df <- read.csv('/content/drive/My Drive/P4P_workshop_data/cropreporter_traits.csv', sep = \",\")\n",
        "head(df)"
      ],
      "metadata": {
        "colab": {
          "base_uri": "https://localhost:8080/"
        },
        "id": "EXucnEuVJc5S",
        "outputId": "06649dae-fd08-4b8e-8cf3-89cb352b1a4e"
      },
      "execution_count": 13,
      "outputs": [
        {
          "output_type": "stream",
          "name": "stdout",
          "text": [
            "                                                                                                                                                                                                               filename\n",
            "1     D:/temp/p4p/Lucia\\\\PMD_PML_(Control_vs_Drought_one_genotype)\\\\PMD_protocol\\\\20230708\\\\NPEC52.20230605.BD22.CE3027.Control.2\\\\CropReporter\\\\163111171\\\\data\\\\HDR_90_NPEC52.20230605.BD22.CE3027.Control.2_1368.INF\n",
            "2       D:/temp/p4p/Lucia\\\\PMD_PML_(Control_vs_Drought_one_genotype)\\\\PMD_protocol\\\\20230708\\\\NPEC52.20230605.BD4.CE3027.Control.1\\\\CropReporter\\\\124326957\\\\data\\\\HDR_90_NPEC52.20230605.BD4.CE3027.Control.1_1368.INF\n",
            "3     D:/temp/p4p/Lucia\\\\PMD_PML_(Control_vs_Drought_one_genotype)\\\\PMD_protocol\\\\20230708\\\\NPEC52.20230605.BE11.CE3027.Control.3\\\\CropReporter\\\\142623408\\\\data\\\\HDR_90_NPEC52.20230605.BE11.CE3027.Control.3_1368.INF\n",
            "4     D:/temp/p4p/Lucia\\\\PMD_PML_(Control_vs_Drought_one_genotype)\\\\PMD_protocol\\\\20230708\\\\NPEC52.20230605.BE29.CE3027.Control.4\\\\CropReporter\\\\174955569\\\\data\\\\HDR_90_NPEC52.20230605.BE29.CE3027.Control.4_1368.INF\n",
            "5     D:/temp/p4p/Lucia\\\\PMD_PML_(Control_vs_Drought_one_genotype)\\\\PMD_protocol\\\\20230708\\\\NPEC52.20230605.BF18.CE3027.Control.5\\\\CropReporter\\\\154923326\\\\data\\\\HDR_90_NPEC52.20230605.BF18.CE3027.Control.5_1368.INF\n",
            "6 D:/temp/p4p/Lucia\\\\PMD_PML_(Control_vs_Drought_one_genotype)\\\\PMD_protocol\\\\20230708\\\\NPEC52.20230605.BG25.CE3027.Drought_2.7\\\\CropReporter\\\\170757116\\\\data\\\\HDR_90_NPEC52.20230605.BG25.CE3027.Drought_2.7_1368.INF\n",
            "  ExperimentId TreatmentId                                 PlantId CameraHeight\n",
            "1           90        1368   NPEC52.20230605.BD22.CE3027.Control.2        11480\n",
            "2           90        1368    NPEC52.20230605.BD4.CE3027.Control.1        10683\n",
            "3           90        1368   NPEC52.20230605.BE11.CE3027.Control.3        10825\n",
            "4           90        1368   NPEC52.20230605.BE29.CE3027.Control.4        11324\n",
            "5           90        1368   NPEC52.20230605.BF18.CE3027.Control.5        10415\n",
            "6           90        1368 NPEC52.20230605.BG25.CE3027.Drought_2.7        10180\n",
            "  ConfigFile MeanNdvi MeanEgreen  MeanPsri  MeanAri MeanMari MeanChlorophyll\n",
            "1      11480     0.83  0.6266633 0.4294998 15.36645 3.601837        23038.46\n",
            "2      10683     0.82  0.6555136 0.4469869 17.71185 3.375247        23337.92\n",
            "3      10825     0.82  0.6200235 0.4395031 15.66529 3.456177        23103.47\n",
            "4      11324     0.83  0.6285962 0.4292610 15.52311 3.690951        23092.00\n",
            "5      10415     0.82  0.6270032 0.4408761 15.50665 3.459283        23269.08\n",
            "6      10180     0.83  0.6141655 0.4233582 14.98091 3.866274        22909.60\n",
            "  min_yii mean_yii max_yii\n",
            "1    0.51     0.80    1.00\n",
            "2    0.70     0.83    0.92\n",
            "3    0.41     0.79    0.92\n",
            "4   -4.33     0.80    0.94\n",
            "5   -0.07     0.78    0.97\n",
            "6   -0.38     0.80    0.92\n"
          ]
        }
      ]
    },
    {
      "cell_type": "code",
      "source": [
        "# Converting to datetime object\n",
        "df[['Datetime']] <- as.POSIXct(df[['Datetime']], format = \"%Y-%m-%d %H:%M:%OS\")\n",
        "\n",
        "# Datenum stored as integer, exact datetime of measurement\n",
        "df[['datenum']] <- as.integer(df[['DateTime']])\n",
        "\n",
        "# Date is multiplied with 86400 to get value at 00:00:00 of each day\n",
        "df[['date']] <- as.numeric(as.Date(df[['DateTime']]))"
      ],
      "metadata": {
        "id": "Ab85ZOMijL5z"
      },
      "execution_count": null,
      "outputs": []
    },
    {
      "cell_type": "code",
      "source": [
        "# All columns\n",
        "colnames(df)"
      ],
      "metadata": {
        "colab": {
          "base_uri": "https://localhost:8080/",
          "height": 193
        },
        "id": "shPdnIUckamb",
        "outputId": "16cf0603-1ad7-4854-a5b7-4fb94b4d1595"
      },
      "execution_count": 14,
      "outputs": [
        {
          "output_type": "error",
          "ename": "NameError",
          "evalue": "ignored",
          "traceback": [
            "\u001b[0;31m---------------------------------------------------------------------------\u001b[0m",
            "\u001b[0;31mNameError\u001b[0m                                 Traceback (most recent call last)",
            "\u001b[0;32m<ipython-input-14-05667517c9b4>\u001b[0m in \u001b[0;36m<cell line: 2>\u001b[0;34m()\u001b[0m\n\u001b[1;32m      1\u001b[0m \u001b[0;31m# All columns\u001b[0m\u001b[0;34m\u001b[0m\u001b[0;34m\u001b[0m\u001b[0m\n\u001b[0;32m----> 2\u001b[0;31m \u001b[0mcolnames\u001b[0m\u001b[0;34m(\u001b[0m\u001b[0mdf\u001b[0m\u001b[0;34m)\u001b[0m\u001b[0;34m\u001b[0m\u001b[0;34m\u001b[0m\u001b[0m\n\u001b[0m",
            "\u001b[0;31mNameError\u001b[0m: name 'colnames' is not defined"
          ]
        }
      ]
    },
    {
      "cell_type": "code",
      "source": [
        "# List of the columns to interpolate\n",
        "trait_list <- list('MeanChlorophyll', 'MeanNdvi', 'MeanEgreen', 'MeanPsri', 'MeanAri', 'MeanMari', 'mean_yii')\n"
      ],
      "metadata": {
        "id": "D_iUrzvykKWb"
      },
      "execution_count": null,
      "outputs": []
    }
  ]
}