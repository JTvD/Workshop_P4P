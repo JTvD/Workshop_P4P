{
  "nbformat": 4,
  "nbformat_minor": 0,
  "metadata": {
    "colab": {
      "provenance": [],
      "authorship_tag": "ABX9TyOdmJpP7mFcU3mFzfJ40dDz",
      "include_colab_link": true
    },
    "kernelspec": {
      "name": "python3",
      "display_name": "Python 3"
    },
    "language_info": {
      "name": "python"
    }
  },
  "cells": [
    {
      "cell_type": "markdown",
      "metadata": {
        "id": "view-in-github",
        "colab_type": "text"
      },
      "source": [
        "<a href=\"https://colab.research.google.com/github/wurDevTim/Workhshop_P4P/blob/main/introduction.ipynb\" target=\"_parent\"><img src=\"https://colab.research.google.com/assets/colab-badge.svg\" alt=\"Open In Colab\"/></a>"
      ]
    },
    {
      "cell_type": "markdown",
      "source": [
        "# Welkom to the P4P workshop!\n",
        "In this notebook, we will show how to analyse cropreporter data with plantcv.\n",
        "The first step is downloading the data:\n",
        "https://drive.google.com/file/d/1qaFPIgGrOB_t1xNH8wub1LzzmV8uvSZG/view?usp=sharing\n",
        "\n",
        "On the left click the folder icon and upload the zip file"
      ],
      "metadata": {
        "id": "-7ASH8IhV327"
      }
    },
    {
      "cell_type": "code",
      "source": [
        "!unzip /npec_tomato.zip -d /npec_tomato\n",
        "\n"
      ],
      "metadata": {
        "colab": {
          "base_uri": "https://localhost:8080/"
        },
        "id": "nYmbjxbkglpX",
        "outputId": "45263833-8a1f-466f-a066-51ecaddb3195"
      },
      "execution_count": 23,
      "outputs": [
        {
          "output_type": "stream",
          "name": "stdout",
          "text": [
            "Archive:  /npec_tomato.zip\n",
            "  End-of-central-directory signature not found.  Either this file is not\n",
            "  a zipfile, or it constitutes one disk of a multi-part archive.  In the\n",
            "  latter case the central directory and zipfile comment will be found on\n",
            "  the last disk(s) of this archive.\n",
            "unzip:  cannot find zipfile directory in one of /npec_tomato.zip or\n",
            "        /npec_tomato.zip.zip, and cannot find /npec_tomato.zip.ZIP, period.\n"
          ]
        }
      ]
    },
    {
      "cell_type": "markdown",
      "source": [
        "Install Plantcv"
      ],
      "metadata": {
        "id": "JVogt2aWgjlj"
      }
    },
    {
      "cell_type": "code",
      "source": [
        "!pip install git+https://github.com/wurDevTim/plantcv"
      ],
      "metadata": {
        "colab": {
          "base_uri": "https://localhost:8080/"
        },
        "id": "77-MeqVjV9Iz",
        "outputId": "674cc6ed-5cd5-47b5-d1c8-6b53b61b0ba8"
      },
      "execution_count": 5,
      "outputs": [
        {
          "output_type": "stream",
          "name": "stdout",
          "text": [
            "Collecting git+https://github.com/wurDevTim/plantcv\n",
            "  Cloning https://github.com/wurDevTim/plantcv to /tmp/pip-req-build-pty7g0ts\n",
            "  Running command git clone --filter=blob:none --quiet https://github.com/wurDevTim/plantcv /tmp/pip-req-build-pty7g0ts\n",
            "  Resolved https://github.com/wurDevTim/plantcv to commit 5fe40c7f6a11082663ab1201f573da891cc67362\n",
            "  Preparing metadata (setup.py) ... \u001b[?25l\u001b[?25hdone\n",
            "Requirement already satisfied: matplotlib>=1.5 in /usr/local/lib/python3.10/dist-packages (from plantcv==3.14.2+2426.g5fe40c7f) (3.7.1)\n",
            "Requirement already satisfied: numpy>=1.11 in /usr/local/lib/python3.10/dist-packages (from plantcv==3.14.2+2426.g5fe40c7f) (1.23.5)\n",
            "Requirement already satisfied: pandas in /usr/local/lib/python3.10/dist-packages (from plantcv==3.14.2+2426.g5fe40c7f) (1.5.3)\n",
            "Requirement already satisfied: python-dateutil in /usr/local/lib/python3.10/dist-packages (from plantcv==3.14.2+2426.g5fe40c7f) (2.8.2)\n",
            "Requirement already satisfied: scipy in /usr/local/lib/python3.10/dist-packages (from plantcv==3.14.2+2426.g5fe40c7f) (1.11.3)\n",
            "Requirement already satisfied: scikit-image>=0.19 in /usr/local/lib/python3.10/dist-packages (from plantcv==3.14.2+2426.g5fe40c7f) (0.19.3)\n",
            "Requirement already satisfied: scikit-learn in /usr/local/lib/python3.10/dist-packages (from plantcv==3.14.2+2426.g5fe40c7f) (1.2.2)\n",
            "Requirement already satisfied: dask in /usr/local/lib/python3.10/dist-packages (from plantcv==3.14.2+2426.g5fe40c7f) (2023.8.1)\n",
            "Collecting dask-jobqueue (from plantcv==3.14.2+2426.g5fe40c7f)\n",
            "  Downloading dask_jobqueue-0.8.2-py2.py3-none-any.whl (47 kB)\n",
            "\u001b[2K     \u001b[90m━━━━━━━━━━━━━━━━━━━━━━━━━━━━━━━━━━━━━━━━\u001b[0m \u001b[32m47.3/47.3 kB\u001b[0m \u001b[31m1.4 MB/s\u001b[0m eta \u001b[36m0:00:00\u001b[0m\n",
            "\u001b[?25hRequirement already satisfied: opencv-python in /usr/local/lib/python3.10/dist-packages (from plantcv==3.14.2+2426.g5fe40c7f) (4.8.0.76)\n",
            "Requirement already satisfied: xarray>=2022.11.0 in /usr/local/lib/python3.10/dist-packages (from plantcv==3.14.2+2426.g5fe40c7f) (2023.7.0)\n",
            "Requirement already satisfied: statsmodels in /usr/local/lib/python3.10/dist-packages (from plantcv==3.14.2+2426.g5fe40c7f) (0.14.0)\n",
            "Requirement already satisfied: altair in /usr/local/lib/python3.10/dist-packages (from plantcv==3.14.2+2426.g5fe40c7f) (4.2.2)\n",
            "Collecting vl-convert-python (from plantcv==3.14.2+2426.g5fe40c7f)\n",
            "  Downloading vl_convert_python-1.0.0-cp37-abi3-manylinux_2_17_x86_64.manylinux2014_x86_64.whl (27.0 MB)\n",
            "\u001b[2K     \u001b[90m━━━━━━━━━━━━━━━━━━━━━━━━━━━━━━━━━━━━━━━━\u001b[0m \u001b[32m27.0/27.0 MB\u001b[0m \u001b[31m52.7 MB/s\u001b[0m eta \u001b[36m0:00:00\u001b[0m\n",
            "\u001b[?25hRequirement already satisfied: contourpy>=1.0.1 in /usr/local/lib/python3.10/dist-packages (from matplotlib>=1.5->plantcv==3.14.2+2426.g5fe40c7f) (1.1.1)\n",
            "Requirement already satisfied: cycler>=0.10 in /usr/local/lib/python3.10/dist-packages (from matplotlib>=1.5->plantcv==3.14.2+2426.g5fe40c7f) (0.12.1)\n",
            "Requirement already satisfied: fonttools>=4.22.0 in /usr/local/lib/python3.10/dist-packages (from matplotlib>=1.5->plantcv==3.14.2+2426.g5fe40c7f) (4.43.1)\n",
            "Requirement already satisfied: kiwisolver>=1.0.1 in /usr/local/lib/python3.10/dist-packages (from matplotlib>=1.5->plantcv==3.14.2+2426.g5fe40c7f) (1.4.5)\n",
            "Requirement already satisfied: packaging>=20.0 in /usr/local/lib/python3.10/dist-packages (from matplotlib>=1.5->plantcv==3.14.2+2426.g5fe40c7f) (23.2)\n",
            "Requirement already satisfied: pillow>=6.2.0 in /usr/local/lib/python3.10/dist-packages (from matplotlib>=1.5->plantcv==3.14.2+2426.g5fe40c7f) (9.4.0)\n",
            "Requirement already satisfied: pyparsing>=2.3.1 in /usr/local/lib/python3.10/dist-packages (from matplotlib>=1.5->plantcv==3.14.2+2426.g5fe40c7f) (3.1.1)\n",
            "Requirement already satisfied: six>=1.5 in /usr/local/lib/python3.10/dist-packages (from python-dateutil->plantcv==3.14.2+2426.g5fe40c7f) (1.16.0)\n",
            "Requirement already satisfied: networkx>=2.2 in /usr/local/lib/python3.10/dist-packages (from scikit-image>=0.19->plantcv==3.14.2+2426.g5fe40c7f) (3.2)\n",
            "Requirement already satisfied: imageio>=2.4.1 in /usr/local/lib/python3.10/dist-packages (from scikit-image>=0.19->plantcv==3.14.2+2426.g5fe40c7f) (2.31.6)\n",
            "Requirement already satisfied: tifffile>=2019.7.26 in /usr/local/lib/python3.10/dist-packages (from scikit-image>=0.19->plantcv==3.14.2+2426.g5fe40c7f) (2023.9.26)\n",
            "Requirement already satisfied: PyWavelets>=1.1.1 in /usr/local/lib/python3.10/dist-packages (from scikit-image>=0.19->plantcv==3.14.2+2426.g5fe40c7f) (1.4.1)\n",
            "Requirement already satisfied: pytz>=2020.1 in /usr/local/lib/python3.10/dist-packages (from pandas->plantcv==3.14.2+2426.g5fe40c7f) (2023.3.post1)\n",
            "Requirement already satisfied: entrypoints in /usr/local/lib/python3.10/dist-packages (from altair->plantcv==3.14.2+2426.g5fe40c7f) (0.4)\n",
            "Requirement already satisfied: jinja2 in /usr/local/lib/python3.10/dist-packages (from altair->plantcv==3.14.2+2426.g5fe40c7f) (3.1.2)\n",
            "Requirement already satisfied: jsonschema>=3.0 in /usr/local/lib/python3.10/dist-packages (from altair->plantcv==3.14.2+2426.g5fe40c7f) (4.19.1)\n",
            "Requirement already satisfied: toolz in /usr/local/lib/python3.10/dist-packages (from altair->plantcv==3.14.2+2426.g5fe40c7f) (0.12.0)\n",
            "Requirement already satisfied: click>=8.0 in /usr/local/lib/python3.10/dist-packages (from dask->plantcv==3.14.2+2426.g5fe40c7f) (8.1.7)\n",
            "Requirement already satisfied: cloudpickle>=1.5.0 in /usr/local/lib/python3.10/dist-packages (from dask->plantcv==3.14.2+2426.g5fe40c7f) (2.2.1)\n",
            "Requirement already satisfied: fsspec>=2021.09.0 in /usr/local/lib/python3.10/dist-packages (from dask->plantcv==3.14.2+2426.g5fe40c7f) (2023.6.0)\n",
            "Requirement already satisfied: partd>=1.2.0 in /usr/local/lib/python3.10/dist-packages (from dask->plantcv==3.14.2+2426.g5fe40c7f) (1.4.1)\n",
            "Requirement already satisfied: pyyaml>=5.3.1 in /usr/local/lib/python3.10/dist-packages (from dask->plantcv==3.14.2+2426.g5fe40c7f) (6.0.1)\n",
            "Requirement already satisfied: importlib-metadata>=4.13.0 in /usr/local/lib/python3.10/dist-packages (from dask->plantcv==3.14.2+2426.g5fe40c7f) (6.8.0)\n",
            "Requirement already satisfied: distributed>=2022.02.0 in /usr/local/lib/python3.10/dist-packages (from dask-jobqueue->plantcv==3.14.2+2426.g5fe40c7f) (2023.8.1)\n",
            "Requirement already satisfied: joblib>=1.1.1 in /usr/local/lib/python3.10/dist-packages (from scikit-learn->plantcv==3.14.2+2426.g5fe40c7f) (1.3.2)\n",
            "Requirement already satisfied: threadpoolctl>=2.0.0 in /usr/local/lib/python3.10/dist-packages (from scikit-learn->plantcv==3.14.2+2426.g5fe40c7f) (3.2.0)\n",
            "Requirement already satisfied: patsy>=0.5.2 in /usr/local/lib/python3.10/dist-packages (from statsmodels->plantcv==3.14.2+2426.g5fe40c7f) (0.5.3)\n",
            "Requirement already satisfied: locket>=1.0.0 in /usr/local/lib/python3.10/dist-packages (from distributed>=2022.02.0->dask-jobqueue->plantcv==3.14.2+2426.g5fe40c7f) (1.0.0)\n",
            "Requirement already satisfied: msgpack>=1.0.0 in /usr/local/lib/python3.10/dist-packages (from distributed>=2022.02.0->dask-jobqueue->plantcv==3.14.2+2426.g5fe40c7f) (1.0.7)\n",
            "Requirement already satisfied: psutil>=5.7.2 in /usr/local/lib/python3.10/dist-packages (from distributed>=2022.02.0->dask-jobqueue->plantcv==3.14.2+2426.g5fe40c7f) (5.9.5)\n",
            "Requirement already satisfied: sortedcontainers>=2.0.5 in /usr/local/lib/python3.10/dist-packages (from distributed>=2022.02.0->dask-jobqueue->plantcv==3.14.2+2426.g5fe40c7f) (2.4.0)\n",
            "Requirement already satisfied: tblib>=1.6.0 in /usr/local/lib/python3.10/dist-packages (from distributed>=2022.02.0->dask-jobqueue->plantcv==3.14.2+2426.g5fe40c7f) (3.0.0)\n",
            "Requirement already satisfied: tornado>=6.0.4 in /usr/local/lib/python3.10/dist-packages (from distributed>=2022.02.0->dask-jobqueue->plantcv==3.14.2+2426.g5fe40c7f) (6.3.2)\n",
            "Requirement already satisfied: urllib3>=1.24.3 in /usr/local/lib/python3.10/dist-packages (from distributed>=2022.02.0->dask-jobqueue->plantcv==3.14.2+2426.g5fe40c7f) (2.0.7)\n",
            "Requirement already satisfied: zict>=2.2.0 in /usr/local/lib/python3.10/dist-packages (from distributed>=2022.02.0->dask-jobqueue->plantcv==3.14.2+2426.g5fe40c7f) (3.0.0)\n",
            "Requirement already satisfied: zipp>=0.5 in /usr/local/lib/python3.10/dist-packages (from importlib-metadata>=4.13.0->dask->plantcv==3.14.2+2426.g5fe40c7f) (3.17.0)\n",
            "Requirement already satisfied: MarkupSafe>=2.0 in /usr/local/lib/python3.10/dist-packages (from jinja2->altair->plantcv==3.14.2+2426.g5fe40c7f) (2.1.3)\n",
            "Requirement already satisfied: attrs>=22.2.0 in /usr/local/lib/python3.10/dist-packages (from jsonschema>=3.0->altair->plantcv==3.14.2+2426.g5fe40c7f) (23.1.0)\n",
            "Requirement already satisfied: jsonschema-specifications>=2023.03.6 in /usr/local/lib/python3.10/dist-packages (from jsonschema>=3.0->altair->plantcv==3.14.2+2426.g5fe40c7f) (2023.7.1)\n",
            "Requirement already satisfied: referencing>=0.28.4 in /usr/local/lib/python3.10/dist-packages (from jsonschema>=3.0->altair->plantcv==3.14.2+2426.g5fe40c7f) (0.30.2)\n",
            "Requirement already satisfied: rpds-py>=0.7.1 in /usr/local/lib/python3.10/dist-packages (from jsonschema>=3.0->altair->plantcv==3.14.2+2426.g5fe40c7f) (0.10.6)\n",
            "Building wheels for collected packages: plantcv\n",
            "  Building wheel for plantcv (setup.py) ... \u001b[?25l\u001b[?25hdone\n",
            "  Created wheel for plantcv: filename=plantcv-3.14.2+2426.g5fe40c7f-py3-none-any.whl size=328176 sha256=b22f7064d3300880b2aa33b3f7d833a70ca82aa84aca33e978892dc302e4d018\n",
            "  Stored in directory: /tmp/pip-ephem-wheel-cache-wd4dwz6s/wheels/7e/d4/bc/5ebe3a5b6c1a61c110d2b127f8055e0b00503599bb5e487a47\n",
            "Successfully built plantcv\n",
            "Installing collected packages: vl-convert-python, dask-jobqueue, plantcv\n",
            "Successfully installed dask-jobqueue-0.8.2 plantcv-3.14.2+2426.g5fe40c7f vl-convert-python-1.0.0\n"
          ]
        }
      ]
    },
    {
      "cell_type": "code",
      "source": [
        "NPEC_tomato_drive = \"https://drive.google.com/drive/folders/1F38XYnINWWB5k169j0zjj_UpaKXz6y7z?usp=sharing\"\n",
        "\n",
        "for hdr_file in glob(NPEC_tomato_drive):\n"
      ],
      "metadata": {
        "id": "_JVE-QAjV9g2"
      },
      "execution_count": null,
      "outputs": []
    }
  ]
}